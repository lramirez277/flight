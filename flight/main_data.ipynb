{
 "cells": [
  {
   "cell_type": "code",
   "execution_count": 9,
   "metadata": {},
   "outputs": [],
   "source": [
    "import pandas as pd\n",
    "import matplotlib.pyplot as plt\n",
    "import numpy as np"
   ]
  },
  {
   "cell_type": "code",
   "execution_count": 10,
   "metadata": {},
   "outputs": [],
   "source": [
    "passangers_data = \"resources/passangers_first.csv\"\n",
    "planes_data=\"resources/Airtransport.new.csv\"\n",
    "total_passangers_data = \"resources/totalpassangers.csv\"\n",
    "plane_total_date=\"resources/plane.total.csv\"\n",
    "total_passangers_data_df = pd.read_csv(total_passangers_data)"
   ]
  },
  {
   "cell_type": "code",
   "execution_count": 11,
   "metadata": {},
   "outputs": [
    {
     "data": {
      "text/html": [
       "<div>\n",
       "<style scoped>\n",
       "    .dataframe tbody tr th:only-of-type {\n",
       "        vertical-align: middle;\n",
       "    }\n",
       "\n",
       "    .dataframe tbody tr th {\n",
       "        vertical-align: top;\n",
       "    }\n",
       "\n",
       "    .dataframe thead th {\n",
       "        text-align: right;\n",
       "    }\n",
       "</style>\n",
       "<table border=\"1\" class=\"dataframe\">\n",
       "  <thead>\n",
       "    <tr style=\"text-align: right;\">\n",
       "      <th></th>\n",
       "      <th>Airports</th>\n",
       "      <th>2007</th>\n",
       "      <th>2008</th>\n",
       "      <th>2009</th>\n",
       "      <th>2010</th>\n",
       "      <th>2011</th>\n",
       "      <th>2012</th>\n",
       "      <th>2013</th>\n",
       "      <th>2014</th>\n",
       "    </tr>\n",
       "  </thead>\n",
       "  <tbody>\n",
       "    <tr>\n",
       "      <td>0</td>\n",
       "      <td>GATWICK</td>\n",
       "      <td>35216239</td>\n",
       "      <td>34205887</td>\n",
       "      <td>32392520</td>\n",
       "      <td>31375290</td>\n",
       "      <td>33674264</td>\n",
       "      <td>34235982</td>\n",
       "      <td>35444206</td>\n",
       "      <td>38103667</td>\n",
       "    </tr>\n",
       "    <tr>\n",
       "      <td>1</td>\n",
       "      <td>HEATHROW</td>\n",
       "      <td>68066028</td>\n",
       "      <td>67054745</td>\n",
       "      <td>66036957</td>\n",
       "      <td>65881660</td>\n",
       "      <td>69433230</td>\n",
       "      <td>70037417</td>\n",
       "      <td>72367054</td>\n",
       "      <td>73405330</td>\n",
       "    </tr>\n",
       "    <tr>\n",
       "      <td>2</td>\n",
       "      <td>LONDON CITY</td>\n",
       "      <td>2912123</td>\n",
       "      <td>3260236</td>\n",
       "      <td>2796890</td>\n",
       "      <td>2780582</td>\n",
       "      <td>2992847</td>\n",
       "      <td>3016664</td>\n",
       "      <td>3379753</td>\n",
       "      <td>3647824</td>\n",
       "    </tr>\n",
       "    <tr>\n",
       "      <td>3</td>\n",
       "      <td>LUTON</td>\n",
       "      <td>9927321</td>\n",
       "      <td>10180734</td>\n",
       "      <td>9120546</td>\n",
       "      <td>8738712</td>\n",
       "      <td>9513704</td>\n",
       "      <td>9617697</td>\n",
       "      <td>9697944</td>\n",
       "      <td>10484938</td>\n",
       "    </tr>\n",
       "    <tr>\n",
       "      <td>4</td>\n",
       "      <td>SOUTHEND</td>\n",
       "      <td>49311</td>\n",
       "      <td>44075</td>\n",
       "      <td>3948</td>\n",
       "      <td>3583</td>\n",
       "      <td>42439</td>\n",
       "      <td>617027</td>\n",
       "      <td>969912</td>\n",
       "      <td>1102358</td>\n",
       "    </tr>\n",
       "    <tr>\n",
       "      <td>5</td>\n",
       "      <td>STANSTED</td>\n",
       "      <td>23779697</td>\n",
       "      <td>22360364</td>\n",
       "      <td>19957077</td>\n",
       "      <td>18573592</td>\n",
       "      <td>18052843</td>\n",
       "      <td>17472699</td>\n",
       "      <td>17852393</td>\n",
       "      <td>19965093</td>\n",
       "    </tr>\n",
       "  </tbody>\n",
       "</table>\n",
       "</div>"
      ],
      "text/plain": [
       "      Airports      2007      2008      2009      2010      2011      2012  \\\n",
       "0      GATWICK  35216239  34205887  32392520  31375290  33674264  34235982   \n",
       "1     HEATHROW  68066028  67054745  66036957  65881660  69433230  70037417   \n",
       "2  LONDON CITY   2912123   3260236   2796890   2780582   2992847   3016664   \n",
       "3        LUTON   9927321  10180734   9120546   8738712   9513704   9617697   \n",
       "4     SOUTHEND     49311     44075      3948      3583     42439    617027   \n",
       "5     STANSTED  23779697  22360364  19957077  18573592  18052843  17472699   \n",
       "\n",
       "       2013      2014  \n",
       "0  35444206  38103667  \n",
       "1  72367054  73405330  \n",
       "2   3379753   3647824  \n",
       "3   9697944  10484938  \n",
       "4    969912   1102358  \n",
       "5  17852393  19965093  "
      ]
     },
     "execution_count": 11,
     "metadata": {},
     "output_type": "execute_result"
    }
   ],
   "source": [
    "passangers_data_df = pd.read_csv(passangers_data)\n",
    "passangers_data_df.head(6)"
   ]
  },
  {
   "cell_type": "code",
   "execution_count": 12,
   "metadata": {},
   "outputs": [
    {
     "data": {
      "text/plain": [
       "2007    139950719\n",
       "2008    137106041\n",
       "2009    130307938\n",
       "2010    127353419\n",
       "2011    133709327\n",
       "2012    134997486\n",
       "2013    139711262\n",
       "2014    146709210\n",
       "dtype: int64"
      ]
     },
     "execution_count": 12,
     "metadata": {},
     "output_type": "execute_result"
    }
   ],
   "source": [
    "total_passangers_yearly=passangers_data_df[[\"2007\",\"2008\",\"2009\",\"2010\",\"2011\",\"2012\",\"2013\",\"2014\"]].sum()\n",
    "total_passangers_yearly"
   ]
  },
  {
   "cell_type": "code",
   "execution_count": 13,
   "metadata": {},
   "outputs": [
    {
     "data": {
      "text/html": [
       "<div>\n",
       "<style scoped>\n",
       "    .dataframe tbody tr th:only-of-type {\n",
       "        vertical-align: middle;\n",
       "    }\n",
       "\n",
       "    .dataframe tbody tr th {\n",
       "        vertical-align: top;\n",
       "    }\n",
       "\n",
       "    .dataframe thead th {\n",
       "        text-align: right;\n",
       "    }\n",
       "</style>\n",
       "<table border=\"1\" class=\"dataframe\">\n",
       "  <thead>\n",
       "    <tr style=\"text-align: right;\">\n",
       "      <th></th>\n",
       "      <th>year</th>\n",
       "      <th>total</th>\n",
       "    </tr>\n",
       "  </thead>\n",
       "  <tbody>\n",
       "    <tr>\n",
       "      <td>0</td>\n",
       "      <td>2007</td>\n",
       "      <td>139950719.0</td>\n",
       "    </tr>\n",
       "    <tr>\n",
       "      <td>1</td>\n",
       "      <td>2008</td>\n",
       "      <td>137106041.0</td>\n",
       "    </tr>\n",
       "    <tr>\n",
       "      <td>2</td>\n",
       "      <td>2009</td>\n",
       "      <td>130307938.0</td>\n",
       "    </tr>\n",
       "    <tr>\n",
       "      <td>3</td>\n",
       "      <td>2010</td>\n",
       "      <td>127353419.0</td>\n",
       "    </tr>\n",
       "    <tr>\n",
       "      <td>4</td>\n",
       "      <td>2011</td>\n",
       "      <td>133709327.0</td>\n",
       "    </tr>\n",
       "    <tr>\n",
       "      <td>5</td>\n",
       "      <td>2012</td>\n",
       "      <td>134997486.0</td>\n",
       "    </tr>\n",
       "    <tr>\n",
       "      <td>6</td>\n",
       "      <td>2013</td>\n",
       "      <td>139711262.0</td>\n",
       "    </tr>\n",
       "    <tr>\n",
       "      <td>7</td>\n",
       "      <td>2014</td>\n",
       "      <td>146709210.0</td>\n",
       "    </tr>\n",
       "  </tbody>\n",
       "</table>\n",
       "</div>"
      ],
      "text/plain": [
       "   year        total\n",
       "0  2007  139950719.0\n",
       "1  2008  137106041.0\n",
       "2  2009  130307938.0\n",
       "3  2010  127353419.0\n",
       "4  2011  133709327.0\n",
       "5  2012  134997486.0\n",
       "6  2013  139711262.0\n",
       "7  2014  146709210.0"
      ]
     },
     "execution_count": 13,
     "metadata": {},
     "output_type": "execute_result"
    }
   ],
   "source": [
    "\n",
    "total_passangers_data_df.head(10)"
   ]
  },
  {
   "cell_type": "code",
   "execution_count": 14,
   "metadata": {},
   "outputs": [
    {
     "data": {
      "text/plain": [
       "Text(0, 0.5, 'Number of incoming passanger')"
      ]
     },
     "execution_count": 14,
     "metadata": {},
     "output_type": "execute_result"
    },
    {
     "data": {
      "image/png": "[encoded data removed]",
      "text/plain": [
       "<Figure size 576x288 with 1 Axes>"
      ]
     },
     "metadata": {
      "needs_background": "light"
     },
     "output_type": "display_data"
    }
   ],
   "source": [
    "x_axis = np.arange(len(total_passangers_data_df))\n",
    "tick_locations = [value for value in x_axis]\n",
    "plt.figure(figsize=(8,4))\n",
    "plt.bar(x_axis, total_passangers_data_df[\"total\"], color='r', alpha=0.5, align=\"center\")\n",
    "plt.xticks(tick_locations, total_passangers_data_df[\"year\"], rotation=\"vertical\")\n",
    "plt.xlim(-0.75, len(x_axis)-0.25)\n",
    "plt.ylim(110000000,155000000)\n",
    "plt.title(\"Total Arrivals In London Airports\")\n",
    "plt.xlabel(\"Years\")\n",
    "plt.ylabel(\"Number of incoming passanger\")\n"
   ]
  },
  {
   "cell_type": "code",
   "execution_count": 15,
   "metadata": {},
   "outputs": [
    {
     "data": {
      "text/plain": [
       "2007    139950719\n",
       "2008    137106041\n",
       "2009    130307938\n",
       "2010    127353419\n",
       "2011    133709327\n",
       "2012    134997486\n",
       "2013    139711262\n",
       "2014    146709210\n",
       "dtype: int64"
      ]
     },
     "execution_count": 15,
     "metadata": {},
     "output_type": "execute_result"
    }
   ],
   "source": [
    "planes_data_df = pd.read_csv(planes_data)\n",
    "total_passangers_yearly=passangers_data_df[[\"2007\",\"2008\",\"2009\",\"2010\",\"2011\",\"2012\",\"2013\",\"2014\"]].sum()\n",
    "total_passangers_yearly\n"
   ]
  },
  {
   "cell_type": "code",
   "execution_count": 17,
   "metadata": {},
   "outputs": [
    {
     "data": {
      "text/html": [
       "<div>\n",
       "<style scoped>\n",
       "    .dataframe tbody tr th:only-of-type {\n",
       "        vertical-align: middle;\n",
       "    }\n",
       "\n",
       "    .dataframe tbody tr th {\n",
       "        vertical-align: top;\n",
       "    }\n",
       "\n",
       "    .dataframe thead th {\n",
       "        text-align: right;\n",
       "    }\n",
       "</style>\n",
       "<table border=\"1\" class=\"dataframe\">\n",
       "  <thead>\n",
       "    <tr style=\"text-align: right;\">\n",
       "      <th></th>\n",
       "      <th>Year</th>\n",
       "      <th>Total</th>\n",
       "    </tr>\n",
       "  </thead>\n",
       "  <tbody>\n",
       "    <tr>\n",
       "      <td>0</td>\n",
       "      <td>2007</td>\n",
       "      <td>139951</td>\n",
       "    </tr>\n",
       "    <tr>\n",
       "      <td>1</td>\n",
       "      <td>2008</td>\n",
       "      <td>137106</td>\n",
       "    </tr>\n",
       "    <tr>\n",
       "      <td>2</td>\n",
       "      <td>2009</td>\n",
       "      <td>130308</td>\n",
       "    </tr>\n",
       "    <tr>\n",
       "      <td>3</td>\n",
       "      <td>2010</td>\n",
       "      <td>127353</td>\n",
       "    </tr>\n",
       "    <tr>\n",
       "      <td>4</td>\n",
       "      <td>2011</td>\n",
       "      <td>133709</td>\n",
       "    </tr>\n",
       "    <tr>\n",
       "      <td>5</td>\n",
       "      <td>2012</td>\n",
       "      <td>134997</td>\n",
       "    </tr>\n",
       "    <tr>\n",
       "      <td>6</td>\n",
       "      <td>2013</td>\n",
       "      <td>139711</td>\n",
       "    </tr>\n",
       "    <tr>\n",
       "      <td>7</td>\n",
       "      <td>2014</td>\n",
       "      <td>146709</td>\n",
       "    </tr>\n",
       "  </tbody>\n",
       "</table>\n",
       "</div>"
      ],
      "text/plain": [
       "   Year   Total\n",
       "0  2007  139951\n",
       "1  2008  137106\n",
       "2  2009  130308\n",
       "3  2010  127353\n",
       "4  2011  133709\n",
       "5  2012  134997\n",
       "6  2013  139711\n",
       "7  2014  146709"
      ]
     },
     "execution_count": 17,
     "metadata": {},
     "output_type": "execute_result"
    }
   ],
   "source": [
    "plane_total_date_df = pd.read_csv(plane_total_date)\n",
    "plane_total_date_df.head(10)"
   ]
  },
  {
   "cell_type": "code",
   "execution_count": 26,
   "metadata": {},
   "outputs": [
    {
     "data": {
      "text/plain": [
       "(100000, 160000)"
      ]
     },
     "execution_count": 26,
     "metadata": {},
     "output_type": "execute_result"
    },
    {
     "data": {
      "image/png": "[encoded data removed]",
      "text/plain": [
       "<Figure size 576x288 with 1 Axes>"
      ]
     },
     "metadata": {
      "needs_background": "light"
     },
     "output_type": "display_data"
    }
   ],
   "source": [
    "x_axis = np.arange(len(plane_total_date_df))\n",
    "tick_locations = [value for value in x_axis]\n",
    "plt.figure(figsize=(8,4))\n",
    "plt.bar(x_axis, plane_total_date_df[\"Total\"], color='r', alpha=0.5, align=\"center\")\n",
    "plt.xticks(tick_locations, plane_total_date_df[\"Year\"], rotation=\"vertical\")\n",
    "plt.xlim(-0.75, len(x_axis)-0.25)\n",
    "plt.ylim(100000,160000)\n"
   ]
  },
  {
   "cell_type": "code",
   "execution_count": null,
   "metadata": {},
   "outputs": [],
   "source": []
  }
 ],
 "metadata": {
  "kernelspec": {
   "display_name": "Python 3",
   "language": "python",
   "name": "python3"
  },
  "language_info": {
   "codemirror_mode": {
    "name": "ipython",
    "version": 3
   },
   "file_extension": ".py",
   "mimetype": "text/x-python",
   "name": "python",
   "nbconvert_exporter": "python",
   "pygments_lexer": "ipython3",
   "version": "3.7.4"
  }
 },
 "nbformat": 4,
 "nbformat_minor": 2
}
